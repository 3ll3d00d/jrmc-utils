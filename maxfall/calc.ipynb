{
 "cells": [
  {
   "cell_type": "code",
   "execution_count": 74,
   "id": "initial_id",
   "metadata": {
    "collapsed": true,
    "ExecuteTime": {
     "end_time": "2023-08-31T21:24:44.888005545Z",
     "start_time": "2023-08-31T21:24:42.010237536Z"
    }
   },
   "outputs": [
    {
     "data": {
      "text/plain": "                                               Name  max(RGB)      APL %  \\\n0                            greyscale_100_1000.png       192  37.558007   \n1  greyscale_jrvr_spline0.5_peak1000_3dlut_none.png       255  25.532285   \n2                                orient_express.png       255  10.777621   \n3                           orient_express_full.png       255   7.794570   \n4                                    showhorses.png       255  60.525645   \n\n          FALL     PQ FALL        P99.95     PQ P99.95           MAX  \\\n0   145.211965   24.728669   1010.272079   1010.272079   1010.272079   \n1   467.134678    5.552513  10000.000000  10000.000000  10000.000000   \n2    18.345741    0.395969   1959.765317   1959.765317   8911.810420   \n3    13.255757    0.171804   1704.627607   1704.627318   9210.303265   \n4  1133.125275  256.471106   7611.028205   7611.028205  10000.000000   \n\n         MAX XY  \n0     [3800, 0]  \n1     [3800, 0]  \n2   [1783, 107]  \n3   [1864, 240]  \n4  [1009, 1033]  ",
      "text/html": "<div>\n<style scoped>\n    .dataframe tbody tr th:only-of-type {\n        vertical-align: middle;\n    }\n\n    .dataframe tbody tr th {\n        vertical-align: top;\n    }\n\n    .dataframe thead th {\n        text-align: right;\n    }\n</style>\n<table border=\"1\" class=\"dataframe\">\n  <thead>\n    <tr style=\"text-align: right;\">\n      <th></th>\n      <th>Name</th>\n      <th>max(RGB)</th>\n      <th>APL %</th>\n      <th>FALL</th>\n      <th>PQ FALL</th>\n      <th>P99.95</th>\n      <th>PQ P99.95</th>\n      <th>MAX</th>\n      <th>MAX XY</th>\n    </tr>\n  </thead>\n  <tbody>\n    <tr>\n      <th>0</th>\n      <td>greyscale_100_1000.png</td>\n      <td>192</td>\n      <td>37.558007</td>\n      <td>145.211965</td>\n      <td>24.728669</td>\n      <td>1010.272079</td>\n      <td>1010.272079</td>\n      <td>1010.272079</td>\n      <td>[3800, 0]</td>\n    </tr>\n    <tr>\n      <th>1</th>\n      <td>greyscale_jrvr_spline0.5_peak1000_3dlut_none.png</td>\n      <td>255</td>\n      <td>25.532285</td>\n      <td>467.134678</td>\n      <td>5.552513</td>\n      <td>10000.000000</td>\n      <td>10000.000000</td>\n      <td>10000.000000</td>\n      <td>[3800, 0]</td>\n    </tr>\n    <tr>\n      <th>2</th>\n      <td>orient_express.png</td>\n      <td>255</td>\n      <td>10.777621</td>\n      <td>18.345741</td>\n      <td>0.395969</td>\n      <td>1959.765317</td>\n      <td>1959.765317</td>\n      <td>8911.810420</td>\n      <td>[1783, 107]</td>\n    </tr>\n    <tr>\n      <th>3</th>\n      <td>orient_express_full.png</td>\n      <td>255</td>\n      <td>7.794570</td>\n      <td>13.255757</td>\n      <td>0.171804</td>\n      <td>1704.627607</td>\n      <td>1704.627318</td>\n      <td>9210.303265</td>\n      <td>[1864, 240]</td>\n    </tr>\n    <tr>\n      <th>4</th>\n      <td>showhorses.png</td>\n      <td>255</td>\n      <td>60.525645</td>\n      <td>1133.125275</td>\n      <td>256.471106</td>\n      <td>7611.028205</td>\n      <td>7611.028205</td>\n      <td>10000.000000</td>\n      <td>[1009, 1033]</td>\n    </tr>\n  </tbody>\n</table>\n</div>"
     },
     "execution_count": 74,
     "metadata": {},
     "output_type": "execute_result"
    }
   ],
   "source": [
    "from pathlib import Path\n",
    "\n",
    "import numpy as np\n",
    "import pandas as pd\n",
    "from PIL import Image\n",
    "from colour.models import eotf_ST2084\n",
    "\n",
    "files = [\n",
    "    (None, '/home/matt/dev/github/3ll3d00d/jrmc-utils/greyscale/greyscale_100_1000.png'),\n",
    "    (2.2, '/media/home-media/docs/calibration/tonemapping/greyscale/greyscale_jrvr_spline0.5_peak1000_3dlut_none.png'),\n",
    "    (2.2, '/home/matt/Pictures/orient_express.png'),\n",
    "    (2.2, '/home/matt/Pictures/orient_express_full.png'),\n",
    "    (2.2, '/home/matt/Pictures/showhorses.png'),\n",
    "    # (2.2, '/home/matt/Downloads/adl5.png')\n",
    "]\n",
    "data = []\n",
    "for gamma, f in files:\n",
    "    im = np.array(Image.open(f).convert('RGB'))\n",
    "    rgb = im / 255\n",
    "    linear_rgb = rgb ** gamma if gamma else rgb\n",
    "    luminance = np.dot(linear_rgb[..., :3], [0.2126, 0.7152, 0.0722])\n",
    "    nits_luminance = eotf_ST2084(luminance)\n",
    "\n",
    "    apl = np.mean(luminance) * 100\n",
    "    fall = np.mean(nits_luminance)\n",
    "    pq_fall = eotf_ST2084(np.mean(luminance))\n",
    "    p9995 = np.percentile(nits_luminance, 99.95)\n",
    "    pq_p9995 = eotf_ST2084(np.percentile(luminance, 99.95))\n",
    "    max_nits = np.max(nits_luminance)\n",
    "    max_xy = list(reversed(np.unravel_index(luminance.argmax(), luminance.shape)))\n",
    "    data.append([Path(f).name, np.max(im), apl, fall, pq_fall, p9995, pq_p9995, max_nits, max_xy])\n",
    "\n",
    "df = pd.DataFrame(data, columns=['Name', 'max(RGB)', 'APL %', 'FALL', 'PQ FALL', 'P99.95', 'PQ P99.95', 'MAX', 'MAX XY'])\n",
    "df\n"
   ]
  }
 ],
 "metadata": {
  "kernelspec": {
   "display_name": "Python 3",
   "language": "python",
   "name": "python3"
  },
  "language_info": {
   "codemirror_mode": {
    "name": "ipython",
    "version": 2
   },
   "file_extension": ".py",
   "mimetype": "text/x-python",
   "name": "python",
   "nbconvert_exporter": "python",
   "pygments_lexer": "ipython2",
   "version": "2.7.6"
  }
 },
 "nbformat": 4,
 "nbformat_minor": 5
}
