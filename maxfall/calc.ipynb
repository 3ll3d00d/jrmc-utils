{
 "cells": [
  {
   "cell_type": "code",
   "execution_count": 15,
   "id": "initial_id",
   "metadata": {
    "collapsed": true,
    "ExecuteTime": {
     "end_time": "2023-09-01T21:59:59.255013558Z",
     "start_time": "2023-09-01T21:59:55.926126752Z"
    }
   },
   "outputs": [
    {
     "data": {
      "text/plain": "                                               Name  max(RGB)      APL %  \\\n0                            greyscale_100_1000.png       192  37.933389   \n1  greyscale_jrvr_spline0.5_peak1000_3dlut_none.png       255  25.786805   \n2                           orient_express_full.png       255  10.817709   \n3                                    showhorses.png       255  62.612736   \n4                                          adl5.png       153  32.503696   \n\n          FALL     EST FALL     PQ FALL  EST PQ FALL        P99.95  \\\n0   146.663321   148.360001   25.796814    25.794856   1010.272079   \n1   471.791343   525.147557    5.751853     5.854604  10000.000000   \n2    18.397027    81.145625    0.399931     0.424496   1950.833360   \n3  1172.198560  1184.718675  312.277169   312.146731   7611.028205   \n4    13.693057    13.700869   13.693057    15.046635     13.693057   \n\n    EST P99.95     PQ P99.95  EST PQ P99.95           MAX      MAX XY  \n0   995.236944   1010.272079     909.775361   1010.272079     (3762,)  \n1  9852.739402  10000.000000    8679.577610  10000.000000     (3762,)  \n2  1939.497634   1950.833360    2108.783546   9210.303265   (200585,)  \n3  7560.503579   7611.028205    8309.144118  10000.000000  (1918225,)  \n4    13.693065     13.693057      13.694360     13.693057        (0,)  ",
      "text/html": "<div>\n<style scoped>\n    .dataframe tbody tr th:only-of-type {\n        vertical-align: middle;\n    }\n\n    .dataframe tbody tr th {\n        vertical-align: top;\n    }\n\n    .dataframe thead th {\n        text-align: right;\n    }\n</style>\n<table border=\"1\" class=\"dataframe\">\n  <thead>\n    <tr style=\"text-align: right;\">\n      <th></th>\n      <th>Name</th>\n      <th>max(RGB)</th>\n      <th>APL %</th>\n      <th>FALL</th>\n      <th>EST FALL</th>\n      <th>PQ FALL</th>\n      <th>EST PQ FALL</th>\n      <th>P99.95</th>\n      <th>EST P99.95</th>\n      <th>PQ P99.95</th>\n      <th>EST PQ P99.95</th>\n      <th>MAX</th>\n      <th>MAX XY</th>\n    </tr>\n  </thead>\n  <tbody>\n    <tr>\n      <th>0</th>\n      <td>greyscale_100_1000.png</td>\n      <td>192</td>\n      <td>37.933389</td>\n      <td>146.663321</td>\n      <td>148.360001</td>\n      <td>25.796814</td>\n      <td>25.794856</td>\n      <td>1010.272079</td>\n      <td>995.236944</td>\n      <td>1010.272079</td>\n      <td>909.775361</td>\n      <td>1010.272079</td>\n      <td>(3762,)</td>\n    </tr>\n    <tr>\n      <th>1</th>\n      <td>greyscale_jrvr_spline0.5_peak1000_3dlut_none.png</td>\n      <td>255</td>\n      <td>25.786805</td>\n      <td>471.791343</td>\n      <td>525.147557</td>\n      <td>5.751853</td>\n      <td>5.854604</td>\n      <td>10000.000000</td>\n      <td>9852.739402</td>\n      <td>10000.000000</td>\n      <td>8679.577610</td>\n      <td>10000.000000</td>\n      <td>(3762,)</td>\n    </tr>\n    <tr>\n      <th>2</th>\n      <td>orient_express_full.png</td>\n      <td>255</td>\n      <td>10.817709</td>\n      <td>18.397027</td>\n      <td>81.145625</td>\n      <td>0.399931</td>\n      <td>0.424496</td>\n      <td>1950.833360</td>\n      <td>1939.497634</td>\n      <td>1950.833360</td>\n      <td>2108.783546</td>\n      <td>9210.303265</td>\n      <td>(200585,)</td>\n    </tr>\n    <tr>\n      <th>3</th>\n      <td>showhorses.png</td>\n      <td>255</td>\n      <td>62.612736</td>\n      <td>1172.198560</td>\n      <td>1184.718675</td>\n      <td>312.277169</td>\n      <td>312.146731</td>\n      <td>7611.028205</td>\n      <td>7560.503579</td>\n      <td>7611.028205</td>\n      <td>8309.144118</td>\n      <td>10000.000000</td>\n      <td>(1918225,)</td>\n    </tr>\n    <tr>\n      <th>4</th>\n      <td>adl5.png</td>\n      <td>153</td>\n      <td>32.503696</td>\n      <td>13.693057</td>\n      <td>13.700869</td>\n      <td>13.693057</td>\n      <td>15.046635</td>\n      <td>13.693057</td>\n      <td>13.693065</td>\n      <td>13.693057</td>\n      <td>13.694360</td>\n      <td>13.693057</td>\n      <td>(0,)</td>\n    </tr>\n  </tbody>\n</table>\n</div>"
     },
     "execution_count": 15,
     "metadata": {},
     "output_type": "execute_result"
    }
   ],
   "source": [
    "from pathlib import Path\n",
    "\n",
    "import numpy as np\n",
    "import pandas as pd\n",
    "from PIL import Image\n",
    "from colour.models import eotf_ST2084, eotf_inverse_ST2084\n",
    "\n",
    "files = [\n",
    "    (None, '/home/matt/dev/github/3ll3d00d/jrmc-utils/greyscale/greyscale_100_1000.png', 10000),\n",
    "    (2.2, '/media/home-media/docs/calibration/tonemapping/greyscale/greyscale_jrvr_spline0.5_peak1000_3dlut_none.png', 1000),\n",
    "    (2.2, '/home/matt/Pictures/orient_express.png', 1000),\n",
    "    (2.2, '/home/matt/Pictures/orient_express_full.png', 1000),\n",
    "    (2.2, '/media/home-media/showhorses.png', 1000),\n",
    "    (None, '/media/home-media/showhorses.png', 1000),\n",
    "    # (2.2, '/home/matt/Downloads/adl5.png')\n",
    "]\n",
    "data = []\n",
    "for gamma, f, max_cll in files:\n",
    "    im = np.array(Image.open(f).convert('RGB'))\n",
    "    rgb = (im / 255) \n",
    "    linear_rgb = rgb ** gamma if gamma else rgb\n",
    "    luminance = np.dot(linear_rgb[..., :3], [0.2126, 0.7152, 0.0722])\n",
    "    nits_luminance = eotf_ST2084(luminance) \n",
    "\n",
    "    apl = np.mean(luminance) * 100\n",
    "    fall = np.mean(nits_luminance)\n",
    "    pq_fall = eotf_ST2084(np.mean(luminance))\n",
    "    p9995 = np.percentile(nits_luminance, 99.95)\n",
    "    pq_p9995 = eotf_ST2084(np.percentile(luminance, 99.95))\n",
    "    max_nits = np.max(nits_luminance)\n",
    "    max_xy = list(reversed(np.unravel_index(luminance.argmax(), luminance.shape)))\n",
    "    data.append([Path(f).name, np.max(im), apl, fall, pq_fall, p9995, pq_p9995, max_nits, max_xy])\n",
    "\n",
    "df = pd.DataFrame(data, columns=['Name', 'max(RGB)', 'APL %', 'FALL', 'PQ FALL', 'P99.95', 'PQ P99.95', 'MAX', 'MAX XY'])\n",
    "df\n"
   ]
  },
  {
   "cell_type": "code",
   "execution_count": 18,
   "outputs": [
    {
     "data": {
      "text/plain": "32.412353111715305"
     },
     "execution_count": 18,
     "metadata": {},
     "output_type": "execute_result"
    }
   ],
   "source": [
    "\n",
    "eotf_ST2084(0.1077)"
   ],
   "metadata": {
    "collapsed": false,
    "ExecuteTime": {
     "end_time": "2023-09-01T22:01:04.658339422Z",
     "start_time": "2023-09-01T22:01:04.604976352Z"
    }
   },
   "id": "205404e14875cee9"
  }
 ],
 "metadata": {
  "kernelspec": {
   "display_name": "Python 3",
   "language": "python",
   "name": "python3"
  },
  "language_info": {
   "codemirror_mode": {
    "name": "ipython",
    "version": 2
   },
   "file_extension": ".py",
   "mimetype": "text/x-python",
   "name": "python",
   "nbconvert_exporter": "python",
   "pygments_lexer": "ipython2",
   "version": "2.7.6"
  }
 },
 "nbformat": 4,
 "nbformat_minor": 5
}
